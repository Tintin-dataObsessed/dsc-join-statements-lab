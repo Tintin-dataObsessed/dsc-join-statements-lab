








# Your code here
import pandas as pd
import sqlite3
conn = sqlite3.connect('data.sqlite')
cur = conn.cursor()





pd.read_sql('SELECT * FROM employees',conn)


pd.read_sql('SELECT * FROM offices',conn)


# Your code here
pd.read_sql('''
SELECT employees.firstName, employees.lastName, COUNT(offices.officeCode) AS officeCount
FROM employees
JOIN offices ON employees.officeCode = offices.officeCode
GROUP BY employees.firstName, employees.lastName
HAVING officeCount = 0;
''', conn)





# Your code here
pd.read_sql('''
SELECT offices.officeCode, offices.city,COUNT(employees.employeeNumber) AS NoOfEmployees
FROM offices
LEFT JOIN employees ON offices.officeCode = employees.officeCode
GROUP BY offices.officeCode, offices.city 
HAVING NoOfEmployees = 0;
''', conn)





# Answers will vary

# Example question: 
"""
How many customers are there per office?
"""


"""
Question 1
Which office has the highest amount of customers?
"""
pd.read_sql('''
SELECT offices. ,count(customers.customerNumber) AS No_of_Customers
FROM offices
LEFT JOIN customers ON offices.officeCode = customers.
HAVING COUNT(employees.employeeNumber) = 0
''', conn)


"""
Question 2
Which product is the most purchased?
"""

# Your code here
pd.read_sql('''
SELECT SUM(orderdetails.quantityOrdered) AS Most_Purchased, products.productName
FROM products
JOIN orderdetails ON products.productCode = orderdetails.productCode
GROUP BY products.productName
ORDER BY Most_Purchased DESC
LIMIT 1;
''', conn)




"""
Question 3
Which is the customer with the most transactions?
"""

# Your code here
pd.read_sql('''
SELECT customers.customerName, COUNT(o.orderNumber) AS transactionCount
FROM customers
JOIN orders ON customers.customerNumber = orders.customerNumber
GROUP BY customers.customerName
ORDER BY transactionCount DESC
LIMIT 1;
''', conn)





# Your code here
pd.read_sql('''
SELECT employees.firstName, employees.lastName, products.productName
FROM employees
JOIN orders ON employees.employeeNumber = orders.employeeNumber
JOIN orderDetails ON orders.orderNumber = orders.orderNumber
JOIN products ON orders.productCode = products.productCode'''
, conn)






# Your code here






# Your code here






